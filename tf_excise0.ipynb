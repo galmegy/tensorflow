{
 "cells": [
  {
   "cell_type": "code",
   "execution_count": 1,
   "metadata": {
    "collapsed": true
   },
   "outputs": [],
   "source": [
    "import numpy as np\n",
    "import tensorflow as tf\n",
    "import matplotlib.pyplot as plt\n",
    "from tensorflow.examples.tutorials.mnist import input_data"
   ]
  },
  {
   "cell_type": "code",
   "execution_count": 2,
   "metadata": {
    "collapsed": false
   },
   "outputs": [
    {
     "name": "stdout",
     "output_type": "stream",
     "text": [
      "Successfully downloaded train-images-idx3-ubyte.gz 9912422 bytes.\n",
      "Extracting data/train-images-idx3-ubyte.gz\n",
      "Successfully downloaded train-labels-idx1-ubyte.gz 28881 bytes.\n",
      "Extracting data/train-labels-idx1-ubyte.gz\n",
      "Successfully downloaded t10k-images-idx3-ubyte.gz 1648877 bytes.\n",
      "Extracting data/t10k-images-idx3-ubyte.gz\n",
      "Successfully downloaded t10k-labels-idx1-ubyte.gz 4542 bytes.\n",
      "Extracting data/t10k-labels-idx1-ubyte.gz\n"
     ]
    }
   ],
   "source": [
    "mnist      = input_data.read_data_sets('data', one_hot=True)\n",
    "X_train   = mnist.train.images\n",
    "Y_train = mnist.train.labels\n",
    "X_test    = mnist.test.images\n",
    "Y_test  = mnist.test.labels\n"
   ]
  },
  {
   "cell_type": "code",
   "execution_count": 6,
   "metadata": {
    "collapsed": false
   },
   "outputs": [
    {
     "name": "stdout",
     "output_type": "stream",
     "text": [
      "Shape of (X_train, X_test, Y_train, Y_test)\n",
      "((55000, 784), (10000, 784), (55000, 10), (10000, 10))\n"
     ]
    }
   ],
   "source": [
    "dimX = X_train.shape[1]\n",
    "dimY = Y_train.shape[1]\n",
    "nTrain = X_train.shape[0]\n",
    "nTest = X_test.shape[0]\n",
    "print (\"Shape of (X_train, X_test, Y_train, Y_test)\")\n",
    "print (X_train.shape, X_test.shape, Y_train.shape, Y_test.shape)\n"
   ]
  },
  {
   "cell_type": "code",
   "execution_count": 7,
   "metadata": {
    "collapsed": true
   },
   "outputs": [],
   "source": [
    "myIdx = 36436   # any number\n",
    "img   = np.reshape(X_train[myIdx, :], (28, 28)) # 28 * 28 = 784\n",
    "\n",
    "plt.matshow(img, cmap=plt.get_cmap('gray'))\n",
    "plt.show()"
   ]
  },
  {
   "cell_type": "code",
   "execution_count": 38,
   "metadata": {
    "collapsed": false
   },
   "outputs": [
    {
     "name": "stdout",
     "output_type": "stream",
     "text": [
      "(55000, 784) (55000, 10) 784 10\n"
     ]
    }
   ],
   "source": [
    "print X_train.shape, Y_train.shape, dimX, dimY"
   ]
  },
  {
   "cell_type": "code",
   "execution_count": 61,
   "metadata": {
    "collapsed": false
   },
   "outputs": [
    {
     "name": "stdout",
     "output_type": "stream",
     "text": [
      "(?, 784) (?, 10) (784, 10) (10,)\n"
     ]
    }
   ],
   "source": [
    "X = tf.placeholder(tf.float32,[None,784],name='input')\n",
    "Y = tf.placeholder(tf.float32,[None,10],name='label')\n",
    "W = tf.Variable(tf.zeros([784,10]), name='weight')\n",
    "b = tf.Variable(tf.zeros([10]), name='bias')\n",
    "print X.get_shape(), Y.get_shape(), W.get_shape(), b.get_shape()"
   ]
  },
  {
   "cell_type": "code",
   "execution_count": 64,
   "metadata": {
    "collapsed": false
   },
   "outputs": [
    {
     "name": "stdout",
     "output_type": "stream",
     "text": [
      "(?, 10)\n"
     ]
    }
   ],
   "source": [
    "ss = tf.matmul(X,W)\n",
    "y_pred = tf.nn.softmax(tf.add( tf.matmul(X,W) , b))\n",
    "print y_pred.get_shape()"
   ]
  },
  {
   "cell_type": "code",
   "execution_count": 68,
   "metadata": {
    "collapsed": false
   },
   "outputs": [],
   "source": [
    "loss = tf.reduce_mean(-tf.reduce_sum(Y*tf.log(y_pred), reduction_indices=1))"
   ]
  },
  {
   "cell_type": "code",
   "execution_count": 79,
   "metadata": {
    "collapsed": true
   },
   "outputs": [],
   "source": [
    "learning_rate = 0.005\n",
    "optimizer = tf.train.GradientDescentOptimizer(learning_rate).minimize(loss)\n",
    "training_epoch = 20\n",
    "batch_size = 100\n",
    "display_epoch = 2"
   ]
  },
  {
   "cell_type": "code",
   "execution_count": 81,
   "metadata": {
    "collapsed": true
   },
   "outputs": [],
   "source": [
    "correct_pred = tf.equal(tf.argmax(Y,1),tf.argmax(y_pred,1))"
   ]
  },
  {
   "cell_type": "code",
   "execution_count": 82,
   "metadata": {
    "collapsed": true
   },
   "outputs": [],
   "source": [
    "accuracy = tf.reduce_mean(tf.cast(correct_pred,'float32'))"
   ]
  },
  {
   "cell_type": "code",
   "execution_count": 86,
   "metadata": {
    "collapsed": false
   },
   "outputs": [
    {
     "name": "stdout",
     "output_type": "stream",
     "text": [
      "[epoch]  1\n",
      "loss = 0.770459\n",
      "accu_train =  0.842582\n",
      "accu_test =  0.8538\n",
      "[epoch]  3\n",
      "loss = 0.592305\n",
      "accu_train =  0.862964\n",
      "accu_test =  0.8729\n",
      "[epoch]  5\n",
      "loss = 0.520089\n",
      "accu_train =  0.872345\n",
      "accu_test =  0.8826\n",
      "[epoch]  7\n",
      "loss = 0.479236\n",
      "accu_train =  0.878982\n",
      "accu_test =  0.8871\n",
      "[epoch]  9\n",
      "loss = 0.452251\n",
      "accu_train =  0.883218\n",
      "accu_test =  0.8912\n",
      "[epoch]  11\n",
      "loss = 0.432806\n",
      "accu_train =  0.886873\n",
      "accu_test =  0.8952\n",
      "[epoch]  13\n",
      "loss = 0.417847\n",
      "accu_train =  0.889618\n",
      "accu_test =  0.8981\n",
      "[epoch]  15\n",
      "loss = 0.405906\n",
      "accu_train =  0.891855\n",
      "accu_test =  0.8991\n",
      "[epoch]  17\n",
      "loss = 0.396161\n",
      "accu_train =  0.894164\n",
      "accu_test =  0.9009\n",
      "[epoch]  19\n",
      "loss = 0.387903\n",
      "accu_train =  0.895473\n",
      "accu_test =  0.903\n"
     ]
    }
   ],
   "source": [
    "with tf.Session() as sess:\n",
    "    sess.run(tf.initialize_all_variables())\n",
    "    for epoch in range(training_epoch):\n",
    "        nBatch = int(X_train.shape[0]/batch_size)\n",
    "        batch_index = np.random.permutation(X_train.shape[0])\n",
    "        for ii in range(nBatch):\n",
    "            x = X_train[batch_index[ii*batch_size:(ii+1)*batch_size],:]\n",
    "            y = Y_train[batch_index[ii*batch_size:(ii+1)*batch_size],:]\n",
    "            sess.run(optimizer, feed_dict = {X:x, Y:y})\n",
    "            \n",
    "        if (epoch+1)%display_epoch == 0:\n",
    "            print '[epoch] ',epoch\n",
    "            print 'loss =', loss.eval({X:X_train, Y:Y_train})\n",
    "            print 'accu_train = ', accuracy.eval({X:X_train, Y: Y_train})\n",
    "            print 'accu_test = ', accuracy.eval({X:X_test, Y: Y_test})\n",
    "        \n",
    "        #print sess.run(loss)"
   ]
  },
  {
   "cell_type": "code",
   "execution_count": null,
   "metadata": {
    "collapsed": true
   },
   "outputs": [],
   "source": []
  }
 ],
 "metadata": {
  "kernelspec": {
   "display_name": "Python 2",
   "language": "python",
   "name": "python2"
  },
  "language_info": {
   "codemirror_mode": {
    "name": "ipython",
    "version": 2
   },
   "file_extension": ".py",
   "mimetype": "text/x-python",
   "name": "python",
   "nbconvert_exporter": "python",
   "pygments_lexer": "ipython2",
   "version": "2.7.11"
  }
 },
 "nbformat": 4,
 "nbformat_minor": 0
}
